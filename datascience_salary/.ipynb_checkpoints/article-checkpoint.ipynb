{
 "cells": [
  {
   "cell_type": "markdown",
   "id": "647f05a1-bf9a-4474-95f9-ef9fc27f58d4",
   "metadata": {},
   "source": [
    "# Exploratory Data Analysis on Data Science Job Salaries Dataset"
   ]
  },
  {
   "cell_type": "markdown",
   "id": "4ca5c754-30d7-42f8-a1e0-917020139a43",
   "metadata": {
    "tags": []
   },
   "source": [
    "![alt text](analytics.jpeg \"Data Science\")"
   ]
  },
  {
   "cell_type": "markdown",
   "id": "93c86602-0481-41d9-b625-3ef5096eabec",
   "metadata": {},
   "source": [
    "Most of us know that data is collected each and every second. To signup into any website, it asks for personal information. Platforms like Amazon, Flipkart, Myntra, etc which are used on daily basis by the most population, can recommend their customers to buy a product based on their previous purchase data collected. We can say that data is everywhere and for the last few years, most of the industries are focusing on Data Science algorithms to improve customer satisfaction and to maximize their profit. \n",
    "\n",
    "Data Science is a sub domain of statistics which includes concepts like data mining, data analytics, machine learning, deep learning, etc. Machine learning and deep learning are inclined to predictive analytics whereas data mining and data analytics inclined to descriptive and diagnostic analytics. In this article, we are going to focus on the later which is stepping stone to intuition based decision making. \n",
    "\n",
    "Data Analysis is the process to uncover relevant information from the data. EDA(Exploratory data analysis) focuses on checking assumptions, transforming the variables required for model fitting, handling missing values, standarize/ normalizing the data etc; often data visualization libraries such as matplotlib, seaborn, plotly are used to plot the data which makes it easier to understand than just looking at the numbers.\n",
    "\n",
    "We will understand more by selecting a dataset and working on it. Let's dive in. "
   ]
  },
  {
   "cell_type": "markdown",
   "id": "3ebc014b-dbe9-4c0f-8161-19af28596198",
   "metadata": {},
   "source": [
    "I have downloaded the dataset from kaggle, \"Data Science Jobs Salaries Dataset\". https://www.kaggle.com/code/wonduk/eda-on-data-science-job-salaries/data. \n",
    "\n",
    "Let's analyze the data by following the steps:  \n",
    "\n",
    "> Data cleaning. \n",
    "    Includes replacing the column names/ values, handling missing data, checking for duplicate values, handling outliers, etc. \n",
    "\n",
    "> Understanding each feature in detail. \n",
    "\n",
    "> Taking problem statements and trying to get a solution. \n",
    "\n",
    "> Conclusion\n"
   ]
  },
  {
   "cell_type": "markdown",
   "id": "cc8b9e86-1efd-410c-9175-5d1234320f90",
   "metadata": {},
   "source": [
    "#### Importing all the required libraries"
   ]
  },
  {
   "cell_type": "code",
   "execution_count": 1,
   "id": "13e482ad-cee2-4d86-9b8f-a65a97d08fe2",
   "metadata": {
    "jupyter": {
     "source_hidden": true
    },
    "tags": []
   },
   "outputs": [],
   "source": [
    "import pandas as pd\n",
    "import numpy as np\n",
    "import seaborn as sns\n",
    "import matplotlib.pyplot as plt\n",
    "from matplotlib.pyplot import get_cmap\n",
    "import plotly.express as px\n",
    "import missingno\n",
    "import warnings\n",
    "warnings.filterwarnings(action = 'ignore')"
   ]
  },
  {
   "cell_type": "code",
   "execution_count": 2,
   "id": "1d492d9a-8ad0-4d0d-8e82-561e5e8b6796",
   "metadata": {
    "jupyter": {
     "source_hidden": true
    },
    "tags": []
   },
   "outputs": [],
   "source": [
    "# loading our dataset\n",
    "df = pd.read_csv('ds_salaries.csv')\n",
    "\n",
    "#droping the index column \n",
    "df.drop(columns = ['Unnamed: 0'], inplace = True)"
   ]
  },
  {
   "cell_type": "markdown",
   "id": "b381b845-06c8-4244-a1d8-d35a1a6dd6cf",
   "metadata": {},
   "source": [
    "Our dataset has 607 rows and 11 columns. "
   ]
  },
  {
   "cell_type": "markdown",
   "id": "301213db-4a3a-480c-8160-b65c0e61a07c",
   "metadata": {},
   "source": [
    "A data can be of two types: \n",
    "> Quantitative --> Data concerned with descriptions which can be observed but not computed. Eg: color, gender, names, etc.  Only frequency tables and relative tables can be used to represent the quantitative data. \n",
    "\n",
    "> Qualitative --> Deals with numbers on which mathematical calculations can be applied. Eg: height, weight, temperature, bmi, etc. Summarization techniques such as measure of central tendency/ measure of dispersion can be applied on this type of data. "
   ]
  },
  {
   "cell_type": "code",
   "execution_count": 3,
   "id": "d584c9dc-1208-448a-bd71-6327f272d95c",
   "metadata": {
    "jupyter": {
     "source_hidden": true
    },
    "tags": []
   },
   "outputs": [
    {
     "data": {
      "text/plain": [
       "work_year              int64\n",
       "experience_level      object\n",
       "employment_type       object\n",
       "job_title             object\n",
       "salary                 int64\n",
       "salary_currency       object\n",
       "salary_in_usd          int64\n",
       "employee_residence    object\n",
       "remote_ratio           int64\n",
       "company_location      object\n",
       "company_size          object\n",
       "dtype: object"
      ]
     },
     "execution_count": 3,
     "metadata": {},
     "output_type": "execute_result"
    }
   ],
   "source": [
    "df.dtypes"
   ]
  },
  {
   "cell_type": "markdown",
   "id": "99649b75-521e-4a7d-8e1a-6180586474a8",
   "metadata": {},
   "source": [
    "Our dataset contains 3 quantative (salary, salary_in_usd, and remote ratio) and 8 qualitative data. \n",
    "\n",
    "Note: Make sure that the dtype of a column is appropriate. For example, assign date and time column with datatime object or numerical column with int or float, so further operations on the column will be easier without any errors. "
   ]
  },
  {
   "cell_type": "markdown",
   "id": "473080ae-e538-44d1-aeaa-2078bc61b25a",
   "metadata": {},
   "source": [
    "## 1. Cleaning Data"
   ]
  },
  {
   "cell_type": "markdown",
   "id": "5bb151aa-a698-4baf-825a-4bd65fc49e5a",
   "metadata": {},
   "source": [
    "Before starting with cleaning of dataset, we will see a brief description of each column. "
   ]
  },
  {
   "cell_type": "code",
   "execution_count": 4,
   "id": "5719f7b1-15fe-45ef-8149-287d671824a9",
   "metadata": {
    "jupyter": {
     "source_hidden": true
    },
    "tags": []
   },
   "outputs": [
    {
     "data": {
      "text/html": [
       "<style type=\"text/css\">\n",
       "</style>\n",
       "<table id=\"T_c844d\">\n",
       "  <thead>\n",
       "    <tr>\n",
       "      <th class=\"blank level0\" >&nbsp;</th>\n",
       "      <th id=\"T_c844d_level0_col0\" class=\"col_heading level0 col0\" >Column</th>\n",
       "      <th id=\"T_c844d_level0_col1\" class=\"col_heading level0 col1\" >Description</th>\n",
       "    </tr>\n",
       "  </thead>\n",
       "  <tbody>\n",
       "    <tr>\n",
       "      <th id=\"T_c844d_level0_row0\" class=\"row_heading level0 row0\" >0</th>\n",
       "      <td id=\"T_c844d_row0_col0\" class=\"data row0 col0\" >work_year</td>\n",
       "      <td id=\"T_c844d_row0_col1\" class=\"data row0 col1\" >The year the salary was paid.</td>\n",
       "    </tr>\n",
       "    <tr>\n",
       "      <th id=\"T_c844d_level0_row1\" class=\"row_heading level0 row1\" >1</th>\n",
       "      <td id=\"T_c844d_row1_col0\" class=\"data row1 col0\" >experience_level</td>\n",
       "      <td id=\"T_c844d_row1_col1\" class=\"data row1 col1\" >The experience level in the job during the year with the following possible values: EN Entry-level / Junior MI Mid-level / Intermediate SE Senior-level / Expert EX Executive-level / Director.</td>\n",
       "    </tr>\n",
       "    <tr>\n",
       "      <th id=\"T_c844d_level0_row2\" class=\"row_heading level0 row2\" >2</th>\n",
       "      <td id=\"T_c844d_row2_col0\" class=\"data row2 col0\" >employment_type</td>\n",
       "      <td id=\"T_c844d_row2_col1\" class=\"data row2 col1\" >The type of employement for the role: PT Part-time FT Full-time CT Contract FL Freelance</td>\n",
       "    </tr>\n",
       "    <tr>\n",
       "      <th id=\"T_c844d_level0_row3\" class=\"row_heading level0 row3\" >3</th>\n",
       "      <td id=\"T_c844d_row3_col0\" class=\"data row3 col0\" >job_title</td>\n",
       "      <td id=\"T_c844d_row3_col1\" class=\"data row3 col1\" >The role worked in during the year.</td>\n",
       "    </tr>\n",
       "    <tr>\n",
       "      <th id=\"T_c844d_level0_row4\" class=\"row_heading level0 row4\" >4</th>\n",
       "      <td id=\"T_c844d_row4_col0\" class=\"data row4 col0\" >salary</td>\n",
       "      <td id=\"T_c844d_row4_col1\" class=\"data row4 col1\" >The total gross salary amount paid.</td>\n",
       "    </tr>\n",
       "    <tr>\n",
       "      <th id=\"T_c844d_level0_row5\" class=\"row_heading level0 row5\" >5</th>\n",
       "      <td id=\"T_c844d_row5_col0\" class=\"data row5 col0\" >salary_currency</td>\n",
       "      <td id=\"T_c844d_row5_col1\" class=\"data row5 col1\" >The currency of the salary paid as an ISO 4217 currency code.</td>\n",
       "    </tr>\n",
       "    <tr>\n",
       "      <th id=\"T_c844d_level0_row6\" class=\"row_heading level0 row6\" >6</th>\n",
       "      <td id=\"T_c844d_row6_col0\" class=\"data row6 col0\" >salary_in_usd</td>\n",
       "      <td id=\"T_c844d_row6_col1\" class=\"data row6 col1\" >The salary in USD (FX rate divided by avg. USD rate for the respective year via fxdata.foorilla.com).</td>\n",
       "    </tr>\n",
       "    <tr>\n",
       "      <th id=\"T_c844d_level0_row7\" class=\"row_heading level0 row7\" >7</th>\n",
       "      <td id=\"T_c844d_row7_col0\" class=\"data row7 col0\" >employee_residence</td>\n",
       "      <td id=\"T_c844d_row7_col1\" class=\"data row7 col1\" >Employee's primary country of residence in during the work year as an ISO 3166 country code.</td>\n",
       "    </tr>\n",
       "    <tr>\n",
       "      <th id=\"T_c844d_level0_row8\" class=\"row_heading level0 row8\" >8</th>\n",
       "      <td id=\"T_c844d_row8_col0\" class=\"data row8 col0\" >remote_ratio</td>\n",
       "      <td id=\"T_c844d_row8_col1\" class=\"data row8 col1\" >The overall amount of work done remotely, possible values are as follows: 0 No remote work (less than 20%) 50 Partially remote 100 Fully remote (more than 80%)</td>\n",
       "    </tr>\n",
       "    <tr>\n",
       "      <th id=\"T_c844d_level0_row9\" class=\"row_heading level0 row9\" >9</th>\n",
       "      <td id=\"T_c844d_row9_col0\" class=\"data row9 col0\" >company_location</td>\n",
       "      <td id=\"T_c844d_row9_col1\" class=\"data row9 col1\" >The country of the employer's main office or contracting branch as an ISO 3166 country code.</td>\n",
       "    </tr>\n",
       "    <tr>\n",
       "      <th id=\"T_c844d_level0_row10\" class=\"row_heading level0 row10\" >10</th>\n",
       "      <td id=\"T_c844d_row10_col0\" class=\"data row10 col0\" >company_size</td>\n",
       "      <td id=\"T_c844d_row10_col1\" class=\"data row10 col1\" >The average number of people that worked for the company during the year: S less than 50 employees (small) M 50 to 250 employees (medium) L more than 250 employees (large)</td>\n",
       "    </tr>\n",
       "  </tbody>\n",
       "</table>\n"
      ],
      "text/plain": [
       "<pandas.io.formats.style.Styler at 0x245c4317970>"
      ]
     },
     "execution_count": 4,
     "metadata": {},
     "output_type": "execute_result"
    }
   ],
   "source": [
    "desc = pd.DataFrame({})\n",
    "desc['Column'] = df.columns\n",
    "desc['Description'] = ['The year the salary was paid.', \n",
    "     'The experience level in the job during the year with the following possible values: EN Entry-level / Junior MI Mid-level / Intermediate SE Senior-level / Expert EX Executive-level / Director.',\n",
    "     'The type of employement for the role: PT Part-time FT Full-time CT Contract FL Freelance', \n",
    "     'The role worked in during the year.', \n",
    "     'The total gross salary amount paid.', \n",
    "     'The currency of the salary paid as an ISO 4217 currency code.',\n",
    "     'The salary in USD (FX rate divided by avg. USD rate for the respective year via fxdata.foorilla.com).', \n",
    "     \"Employee's primary country of residence in during the work year as an ISO 3166 country code.\", \n",
    "     'The overall amount of work done remotely, possible values are as follows: 0 No remote work (less than 20%) 50 Partially remote 100 Fully remote (more than 80%)', \n",
    "     \"The country of the employer's main office or contracting branch as an ISO 3166 country code.\",\n",
    "     'The average number of people that worked for the company during the year: S less than 50 employees (small) M 50 to 250 employees (medium) L more than 250 employees (large)']\n",
    "\n",
    "desc.style.background_gradient()"
   ]
  },
  {
   "cell_type": "markdown",
   "id": "9b9edfe0-1001-4a67-a3bf-95a38c83bcb5",
   "metadata": {
    "tags": []
   },
   "source": [
    "### Handling missing values. "
   ]
  },
  {
   "cell_type": "code",
   "execution_count": 79,
   "id": "a5727806-15bc-4f0b-8c18-da2073028a2b",
   "metadata": {
    "tags": []
   },
   "outputs": [
    {
     "data": {
      "image/png": "[encoded data removed]",
      "text/plain": [
       "<Figure size 720x288 with 1 Axes>"
      ]
     },
     "metadata": {},
     "output_type": "display_data"
    }
   ],
   "source": [
    "# Looking for any null values\n",
    "fig = plt.figure(figsize = (10, 4))\n",
    "ax = plt.subplot2grid((2,2),(0, 0), 2, 2)\n",
    "missingno.matrix(df, ax = ax, fontsize = 12)\n",
    "plt.show()"
   ]
  },
  {
   "cell_type": "markdown",
   "id": "76bf42ba-20ac-4adb-8638-2c59ef3f171d",
   "metadata": {},
   "source": [
    "> Our dataset does not contain any null values. \n",
    "\n",
    "Note: If there are more than 20% of null values in a column, it is best to drop the column or fill the null values with mean, median, zero, backward fill, forward fill, interpolation, etc. depending on its feature, rather than dropping the corresponding rows. "
   ]
  },
  {
   "cell_type": "markdown",
   "id": "48f9393a-1a49-4217-a28c-f592aad88928",
   "metadata": {},
   "source": [
    "### Replacing column values \n",
    "\n",
    "> The columns 'experience_level' and 'experience_type' have values in their short-forms (PT for part-time). Replacing them with full-forms will give better understanding. \n",
    "\n",
    "> The columns 'employee_residence' and 'company_location' have country codes (JP for Japan). To convert them to country names, first download the dataset which contains both country names and country code then merge it with our dataset. "
   ]
  },
  {
   "cell_type": "code",
   "execution_count": 6,
   "id": "f3563ecf-6f14-4db1-b90a-5ba03e7facaa",
   "metadata": {
    "jupyter": {
     "source_hidden": true
    },
    "tags": []
   },
   "outputs": [],
   "source": [
    "# dealing with 'experience_level' and 'experience_type'\n",
    "df['experience_level'] = df['experience_level'].replace({'EN': 'Entry-level', 'MI': 'Mid-level', 'SE': 'Senior-level', 'EX': 'Executive-level'})\n",
    "df['employment_type'] = df['employment_type'].replace({'PT': 'Part-time', 'FT': 'Full-time', 'CT': 'Contract', 'FL': 'Freelance'})\n",
    "\n",
    "# dealing with 'employee_residence' and 'company_location'\n",
    "country_code = pd.read_csv('https://datahub.io/core/country-list/r/data.csv')\n",
    "\n",
    "new_df = pd.merge(df, country_code, how = 'left', left_on = 'employee_residence', right_on = 'Code').drop(columns = 'Code')\n",
    "new_df.rename(columns = {'Name': 'emp_residence'}, inplace = True)\n",
    "\n",
    "new_df = pd.merge(new_df, country_code, how = 'left', left_on = 'company_location', right_on = 'Code').drop(columns = 'Code')\n",
    "new_df.rename(columns = {'Name': 'comp_location'}, inplace = True)"
   ]
  },
  {
   "cell_type": "markdown",
   "id": "1a78ec5f-055e-438f-a395-c1cb1a75607e",
   "metadata": {},
   "source": [
    "## 2. Understanding each column in more detail. "
   ]
  },
  {
   "cell_type": "code",
   "execution_count": 72,
   "id": "bf0567bc-92ce-4c5b-93d5-dba00d2c013d",
   "metadata": {
    "jupyter": {
     "source_hidden": true
    },
    "tags": []
   },
   "outputs": [
    {
     "data": {
      "image/png": "[encoded data removed]",
      "text/plain": [
       "<Figure size 720x432 with 3 Axes>"
      ]
     },
     "metadata": {},
     "output_type": "display_data"
    }
   ],
   "source": [
    "with plt.style.context('seaborn'):\n",
    "    fig = plt.figure(figsize = (10, 6))\n",
    "    ax = plt.subplot2grid((4, 4), (0, 0), 4, 2)\n",
    "    top_job_titles = new_df['job_title'].value_counts()[:10]\n",
    "\n",
    "    sns.barplot(y = top_job_titles.index, x = top_job_titles.values, orient= \"h\")\n",
    "    plt.xticks(rotation = 75)\n",
    "    plt.title('Top 10 Data Science Job titles')\n",
    "\n",
    "\n",
    "    ax1 = plt.subplot2grid((4, 4), (0, 2), 2, 2)\n",
    "    year_wise_count = new_df['work_year'].value_counts()\n",
    "\n",
    "    sns.barplot(year_wise_count.index, year_wise_count.values, palette = 'Purples', ax = ax1)\n",
    "    [plt.bar_label(i) for i in ax.containers]\n",
    "    plt.xlabel('year')\n",
    "    plt.ylabel('no. of data collected')\n",
    "    plt.title('Work years')\n",
    "\n",
    "    ax = plt.subplot2grid((4, 4), (2, 2), 2, 2)\n",
    "    chart = sns.countplot(new_df['remote_ratio'], palette = 'flare')\n",
    "    [ax.bar_label(i) for i in ax.containers]\n",
    "    chart.set(xticks = range(len(df['remote_ratio'].value_counts())), xticklabels = ['no_remote', 'paritally_remote', 'remote'])\n",
    "    plt.title('Remote ratio')\n",
    "    plt.tight_layout()\n",
    "    plt.show()"
   ]
  },
  {
   "cell_type": "markdown",
   "id": "e3ff68fc-084c-4310-b4f4-4c7ad80ee1cd",
   "metadata": {},
   "source": [
    "> The first bar plot represents the top 10 Data Science Job titles. There are about 50 job titles available in our dataset. As we can see, the top 4-5 jobs are in most demand. Namely Data Scientist, Data Engineer, Data Analyst, Machine Learning Engineer, and Research Scientist. \n",
    "\n",
    "> The second plot represents the feature, 'work_year', where x-axis is the years (2020, 2021, 2022) and y-axis has count of data collected from the respective year. We can see that in the year, 2020, the data collected was less compared to the ahead years so we may conclude that the demand for Data Science jobs have increased over the years. \n",
    "\n",
    "> The third plot represents the feature 'remote_ratio' which has the information on overall amount of work done remotely. We can see that most of the work is done remotely. Since we do not have data before 2020, that is before covid-19, we cannot for sure tell that remote work has increased due to covid but we can assume so. "
   ]
  },
  {
   "cell_type": "code",
   "execution_count": 73,
   "id": "7a81a6a7-4d7d-45d5-8b93-cd2575be271f",
   "metadata": {
    "jupyter": {
     "source_hidden": true
    },
    "tags": []
   },
   "outputs": [
    {
     "data": {
      "image/png": "[encoded data removed]",
      "text/plain": [
       "<Figure size 864x576 with 3 Axes>"
      ]
     },
     "metadata": {},
     "output_type": "display_data"
    }
   ],
   "source": [
    "# It is easier to understand full_forms than short_cuts for the observers, so we will convert them. \n",
    "with plt.style.context('dark_background'):\n",
    "    fig = plt.figure(figsize = (12, 8))\n",
    "    ax = plt.subplot2grid((4, 6), (0, 0), rowspan = 2, colspan = 2)\n",
    "    colors = ['lightskyblue', 'red', 'blue', 'gold'] \n",
    "    plt.pie(new_df['experience_level'].value_counts(), labels = new_df['experience_level'].value_counts().index, autopct = '%.2f%%', colors = colors,\n",
    "            explode = [0.05, 0.05, 0.05, 0.05], shadow = True)\n",
    "    plt.title('Experience Level')\n",
    "\n",
    "\n",
    "    ax = plt.subplot2grid((4, 6), (0, 2), rowspan = 2, colspan = 2)\n",
    "    plt.pie(df['employment_type'].value_counts(), labels = new_df['employment_type'].value_counts().index, autopct = '%.2f%%', colors = colors,\n",
    "           explode = [0.1, 0.1, 0.2, 0.4], shadow = True)\n",
    "    plt.title('Employment Type')\n",
    "\n",
    "    ax = plt.subplot2grid((4, 6), (0, 4), rowspan = 2, colspan = 2)\n",
    "    colors = ['green', 'blue', 'gold'] \n",
    "    plt.pie(new_df['company_size'].value_counts(), labels = new_df['company_size'].value_counts().index, autopct = '%.2f%%', colors = colors,\n",
    "            explode = [0.05, 0.05, 0.05], shadow = True)\n",
    "    plt.title('Company size')\n",
    "    plt.tight_layout()\n",
    "    plt.show()"
   ]
  },
  {
   "cell_type": "markdown",
   "id": "29a90220-c6c3-4e21-9528-9585b185af6b",
   "metadata": {},
   "source": [
    "> The first two plots are composition of 'experience level' and 'employment type' respectively. About 46.13% of data scientists are in senior-level position, 35.09% are in mid-level position, 14.50% are in entry-level, and 4.28% in executive-level. Second plot represents that most of the employees are full-time workers, around 96.87%.  \n",
    "\n",
    "> The third plot shows information on feature 'company size'. Around 53.71% of the companies hiring Data scientists are medium-sized companies, 32.62% are large-sized companies, and 13.67% are small-sized companies. "
   ]
  },
  {
   "cell_type": "code",
   "execution_count": 75,
   "id": "4f1664c3-82cd-4abb-9753-92e71824e3fa",
   "metadata": {
    "jupyter": {
     "source_hidden": true
    },
    "tags": []
   },
   "outputs": [
    {
     "data": {
      "image/png": "[encoded data removed]",
      "text/plain": [
       "<Figure size 576x288 with 1 Axes>"
      ]
     },
     "metadata": {},
     "output_type": "display_data"
    }
   ],
   "source": [
    "with plt.style.context('dark_background'):\n",
    "    fig = plt.figure(figsize = (8, 4))\n",
    "    ax = sns.violinplot(new_df['salary_in_usd'])\n",
    "    plt.title('Salary Range')\n",
    "    plt.show()"
   ]
  },
  {
   "cell_type": "markdown",
   "id": "1c114370-0cd6-49f5-894e-8df23360068e",
   "metadata": {},
   "source": [
    "Salary details are mentioned in 2 columns, i.e, 'salary' and 'salary_in_usd'. Here, using salary_in_usd feature for further analysis will be easier because all the currencies are converted to single currency. \n",
    "\n",
    "> Violinplot is a combination of both box plot and kernel density distribution. The above plot shows the distribution of 'salary_in_usd' within range of 0-600000, where the average salary of a Data Science employee lies around 100000$."
   ]
  },
  {
   "cell_type": "code",
   "execution_count": 77,
   "id": "e4a3654f-491f-483f-bb87-048fe8337a00",
   "metadata": {
    "jupyter": {
     "source_hidden": true
    },
    "tags": []
   },
   "outputs": [
    {
     "data": {
      "image/png": "[encoded data removed]",
      "text/plain": [
       "<Figure size 576x396 with 1 Axes>"
      ]
     },
     "metadata": {},
     "output_type": "display_data"
    }
   ],
   "source": [
    "empl_residence = new_df['emp_residence'].value_counts()\n",
    "empl_residence = empl_residence.to_dict()         \n",
    "        \n",
    "comp_loc = pd.DataFrame({})\n",
    "comp_loc['Country'] = new_df['comp_location'].value_counts()[:10].index\n",
    "comp_loc['comp_count'] = new_df['comp_location'].value_counts()[:10].values\n",
    "\n",
    "comp_loc['emp_count'] = comp_loc['Country'].map(empl_residence)\n",
    "\n",
    "with plt.style.context('dark_background'):\n",
    "    ax = plt.subplot2grid((2, 2), (0, 0), 2, 2)\n",
    "    X_axis = np.arange(len(comp_loc))\n",
    "    plt.bar(X_axis - 0.2, comp_loc['comp_count'], 0.4, color = '#D61C4E', label = 'company location')\n",
    "    plt.bar(X_axis + 0.2, comp_loc['emp_count'], 0.4, label = 'employee residence')\n",
    "    [ax.bar_label(i) for i in ax.containers]\n",
    "    plt.xticks(rotation = 75)\n",
    "    plt.xticks(X_axis, comp_loc['Country'])\n",
    "    plt.legend()\n",
    "    plt.show()"
   ]
  },
  {
   "cell_type": "markdown",
   "id": "5c9983df-118f-43c0-865a-27eec618c50a",
   "metadata": {
    "tags": []
   },
   "source": [
    ">The above plot represents top 10 countries hiring Data scientists and also comparision of employee's residence with companies location. The two bar plots show almost same frequency which means that most of the employees are residing in companies location. For example, in 355 employee's data available from USA, 332 employees reside there and other employees are working from different countries. "
   ]
  },
  {
   "cell_type": "markdown",
   "id": "43d79915-4de5-4e3f-8fe9-ba896e86dd1a",
   "metadata": {},
   "source": [
    "## 3. Taking problem statements and trying to get a solution."
   ]
  },
  {
   "cell_type": "markdown",
   "id": "1ebb620a-d3cc-4512-90bb-c1d1ee76ebbd",
   "metadata": {},
   "source": [
    "### Problem statement 1"
   ]
  },
  {
   "cell_type": "markdown",
   "id": "6f06cb58-8fe5-44f8-9111-c217f0085bf1",
   "metadata": {},
   "source": [
    "#### 1. How salary of Data Science jobs has affected for the last 3 years?  "
   ]
  },
  {
   "cell_type": "code",
   "execution_count": 102,
   "id": "a12bc7db-4b70-4974-9875-4ad77fefccb6",
   "metadata": {
    "jupyter": {
     "source_hidden": true
    },
    "tags": []
   },
   "outputs": [
    {
     "data": {
      "image/png": "[encoded data removed]",
      "text/plain": [
       "<Figure size 576x288 with 1 Axes>"
      ]
     },
     "metadata": {},
     "output_type": "display_data"
    }
   ],
   "source": [
    "with plt.style.context('seaborn-darkgrid'):\n",
    "    fig = plt.figure(figsize = (8, 4))\n",
    "    ax = plt.subplot2grid((2, 2), (0, 0), 2, 2)\n",
    "    salary_mean = {}\n",
    "    for i in [2020, 2021, 2022]:\n",
    "        salary_mean[i] = df.loc[df['work_year'] == i, 'salary_in_usd'].median()  \n",
    "    salary_mean = pd.Series(salary_mean)\n",
    "\n",
    "    plt.bar(salary_mean.index, salary_mean.values)\n",
    "    [ax.bar_label(i) for i in ax.containers]\n",
    "    plt.xticks(salary_mean.index)\n",
    "    plt.xlabel('year')\n",
    "    plt.ylabel('Salary')\n",
    "    plt.show()\n",
    "# fig = px.bar(df, salary_mean.index, salary_mean.values)\n",
    "# fig.update_xaxes(type='category')"
   ]
  },
  {
   "cell_type": "markdown",
   "id": "c2523928-1ec3-431d-8019-10206f379160",
   "metadata": {},
   "source": [
    ">The above plot represents the median salary for the last 3 years. There was about 9% growth in salary in 2021 and considerable amount of growth in 2022 at around 45%. "
   ]
  },
  {
   "cell_type": "markdown",
   "id": "cb337c9c-4a9f-4dbb-a649-2483d38ed1f4",
   "metadata": {},
   "source": [
    "#### 2. How salary varies with experience level and employment type? "
   ]
  },
  {
   "cell_type": "code",
   "execution_count": 141,
   "id": "098ed326-7b73-4bb5-9b3b-4c5aa97ec89b",
   "metadata": {
    "jupyter": {
     "source_hidden": true
    },
    "tags": []
   },
   "outputs": [
    {
     "data": {
      "application/vnd.plotly.v1+json": {
       "config": {
        "plotlyServerURL": "https://plot.ly"
       },
       "data": [
        {
         "branchvalues": "total",
         "customdata": [
          [
           131875
          ],
          [
           416000
          ],
          [
           270000
          ],
          [
           105000
          ],
          [
           132000
          ],
          [
           60000
          ],
          [
           5092139
          ],
          [
           4768193
          ],
          [
           18211053
          ],
          [
           38647842
          ],
          [
           200598
          ],
          [
           130107
          ],
          [
           4590305.875
          ],
          [
           4600800.961538462
          ],
          [
           17617526.943661973
          ],
          [
           38372375.27142857
          ],
          [
           24745248.858319603
          ]
         ],
         "domain": {
          "x": [
           0,
           1
          ],
          "y": [
           0,
           1
          ]
         },
         "hovertemplate": "labels=%{label}<br>count=%{value}<br>parent=%{parent}<br>id=%{id}<br>salary_in_usd=%{color}<extra></extra>",
         "ids": [
          "All/Entry-level/Contract",
          "All/Executive-level/Contract",
          "All/Mid-level/Contract",
          "All/Senior-level/Contract",
          "All/Mid-level/Freelance",
          "All/Senior-level/Freelance",
          "All/Entry-level/Full-time",
          "All/Executive-level/Full-time",
          "All/Mid-level/Full-time",
          "All/Senior-level/Full-time",
          "All/Entry-level/Part-time",
          "All/Mid-level/Part-time",
          "All/Entry-level",
          "All/Executive-level",
          "All/Mid-level",
          "All/Senior-level",
          "All"
         ],
         "labels": [
          "Contract",
          "Contract",
          "Contract",
          "Contract",
          "Freelance",
          "Freelance",
          "Full-time",
          "Full-time",
          "Full-time",
          "Full-time",
          "Part-time",
          "Part-time",
          "Entry-level",
          "Executive-level",
          "Mid-level",
          "Senior-level",
          "All"
         ],
         "marker": {
          "coloraxis": "coloraxis",
          "colors": [
           131875,
           416000,
           270000,
           105000,
           132000,
           60000,
           5092139,
           4768193,
           18211053,
           38647842,
           200598,
           130107,
           4590305.875,
           4600800.961538462,
           17617526.943661973,
           38372375.27142857,
           24745248.858319603
          ]
         },
         "name": "",
         "parents": [
          "All/Entry-level",
          "All/Executive-level",
          "All/Mid-level",
          "All/Senior-level",
          "All/Mid-level",
          "All/Senior-level",
          "All/Entry-level",
          "All/Executive-level",
          "All/Mid-level",
          "All/Senior-level",
          "All/Entry-level",
          "All/Mid-level",
          "All",
          "All",
          "All",
          "All",
          ""
         ],
         "type": "treemap",
         "values": [
          2,
          1,
          1,
          1,
          3,
          1,
          79,
          25,
          206,
          278,
          7,
          3,
          88,
          26,
          213,
          280,
          607
         ]
        }
       ],
       "layout": {
        "coloraxis": {
         "colorbar": {
          "title": {
           "text": "salary_in_usd"
          }
         },
         "colorscale": [
          [
           0,
           "rgb(103,0,31)"
          ],
          [
           0.1,
           "rgb(178,24,43)"
          ],
          [
           0.2,
           "rgb(214,96,77)"
          ],
          [
           0.3,
           "rgb(244,165,130)"
          ],
          [
           0.4,
           "rgb(253,219,199)"
          ],
          [
           0.5,
           "rgb(247,247,247)"
          ],
          [
           0.6,
           "rgb(209,229,240)"
          ],
          [
           0.7,
           "rgb(146,197,222)"
          ],
          [
           0.8,
           "rgb(67,147,195)"
          ],
          [
           0.9,
           "rgb(33,102,172)"
          ],
          [
           1,
           "rgb(5,48,97)"
          ]
         ]
        },
        "height": 500,
        "legend": {
         "tracegroupgap": 0
        },
        "margin": {
         "t": 60
        },
        "template": {
         "data": {
          "bar": [
           {
            "error_x": {
             "color": "#2a3f5f"
            },
            "error_y": {
             "color": "#2a3f5f"
            },
            "marker": {
             "line": {
              "color": "#E5ECF6",
              "width": 0.5
             },
             "pattern": {
              "fillmode": "overlay",
              "size": 10,
              "solidity": 0.2
             }
            },
            "type": "bar"
           }
          ],
          "barpolar": [
           {
            "marker": {
             "line": {
              "color": "#E5ECF6",
              "width": 0.5
             },
             "pattern": {
              "fillmode": "overlay",
              "size": 10,
              "solidity": 0.2
             }
            },
            "type": "barpolar"
           }
          ],
          "carpet": [
           {
            "aaxis": {
             "endlinecolor": "#2a3f5f",
             "gridcolor": "white",
             "linecolor": "white",
             "minorgridcolor": "white",
             "startlinecolor": "#2a3f5f"
            },
            "baxis": {
             "endlinecolor": "#2a3f5f",
             "gridcolor": "white",
             "linecolor": "white",
             "minorgridcolor": "white",
             "startlinecolor": "#2a3f5f"
            },
            "type": "carpet"
           }
          ],
          "choropleth": [
           {
            "colorbar": {
             "outlinewidth": 0,
             "ticks": ""
            },
            "type": "choropleth"
           }
          ],
          "contour": [
           {
            "colorbar": {
             "outlinewidth": 0,
             "ticks": ""
            },
            "colorscale": [
             [
              0,
              "#0d0887"
             ],
             [
              0.1111111111111111,
              "#46039f"
             ],
             [
              0.2222222222222222,
              "#7201a8"
             ],
             [
              0.3333333333333333,
              "#9c179e"
             ],
             [
              0.4444444444444444,
              "#bd3786"
             ],
             [
              0.5555555555555556,
              "#d8576b"
             ],
             [
              0.6666666666666666,
              "#ed7953"
             ],
             [
              0.7777777777777778,
              "#fb9f3a"
             ],
             [
              0.8888888888888888,
              "#fdca26"
             ],
             [
              1,
              "#f0f921"
             ]
            ],
            "type": "contour"
           }
          ],
          "contourcarpet": [
           {
            "colorbar": {
             "outlinewidth": 0,
             "ticks": ""
            },
            "type": "contourcarpet"
           }
          ],
          "heatmap": [
           {
            "colorbar": {
             "outlinewidth": 0,
             "ticks": ""
            },
            "colorscale": [
             [
              0,
              "#0d0887"
             ],
             [
              0.1111111111111111,
              "#46039f"
             ],
             [
              0.2222222222222222,
              "#7201a8"
             ],
             [
              0.3333333333333333,
              "#9c179e"
             ],
             [
              0.4444444444444444,
              "#bd3786"
             ],
             [
              0.5555555555555556,
              "#d8576b"
             ],
             [
              0.6666666666666666,
              "#ed7953"
             ],
             [
              0.7777777777777778,
              "#fb9f3a"
             ],
             [
              0.8888888888888888,
              "#fdca26"
             ],
             [
              1,
              "#f0f921"
             ]
            ],
            "type": "heatmap"
           }
          ],
          "heatmapgl": [
           {
            "colorbar": {
             "outlinewidth": 0,
             "ticks": ""
            },
            "colorscale": [
             [
              0,
              "#0d0887"
             ],
             [
              0.1111111111111111,
              "#46039f"
             ],
             [
              0.2222222222222222,
              "#7201a8"
             ],
             [
              0.3333333333333333,
              "#9c179e"
             ],
             [
              0.4444444444444444,
              "#bd3786"
             ],
             [
              0.5555555555555556,
              "#d8576b"
             ],
             [
              0.6666666666666666,
              "#ed7953"
             ],
             [
              0.7777777777777778,
              "#fb9f3a"
             ],
             [
              0.8888888888888888,
              "#fdca26"
             ],
             [
              1,
              "#f0f921"
             ]
            ],
            "type": "heatmapgl"
           }
          ],
          "histogram": [
           {
            "marker": {
             "pattern": {
              "fillmode": "overlay",
              "size": 10,
              "solidity": 0.2
             }
            },
            "type": "histogram"
           }
          ],
          "histogram2d": [
           {
            "colorbar": {
             "outlinewidth": 0,
             "ticks": ""
            },
            "colorscale": [
             [
              0,
              "#0d0887"
             ],
             [
              0.1111111111111111,
              "#46039f"
             ],
             [
              0.2222222222222222,
              "#7201a8"
             ],
             [
              0.3333333333333333,
              "#9c179e"
             ],
             [
              0.4444444444444444,
              "#bd3786"
             ],
             [
              0.5555555555555556,
              "#d8576b"
             ],
             [
              0.6666666666666666,
              "#ed7953"
             ],
             [
              0.7777777777777778,
              "#fb9f3a"
             ],
             [
              0.8888888888888888,
              "#fdca26"
             ],
             [
              1,
              "#f0f921"
             ]
            ],
            "type": "histogram2d"
           }
          ],
          "histogram2dcontour": [
           {
            "colorbar": {
             "outlinewidth": 0,
             "ticks": ""
            },
            "colorscale": [
             [
              0,
              "#0d0887"
             ],
             [
              0.1111111111111111,
              "#46039f"
             ],
             [
              0.2222222222222222,
              "#7201a8"
             ],
             [
              0.3333333333333333,
              "#9c179e"
             ],
             [
              0.4444444444444444,
              "#bd3786"
             ],
             [
              0.5555555555555556,
              "#d8576b"
             ],
             [
              0.6666666666666666,
              "#ed7953"
             ],
             [
              0.7777777777777778,
              "#fb9f3a"
             ],
             [
              0.8888888888888888,
              "#fdca26"
             ],
             [
              1,
              "#f0f921"
             ]
            ],
            "type": "histogram2dcontour"
           }
          ],
          "mesh3d": [
           {
            "colorbar": {
             "outlinewidth": 0,
             "ticks": ""
            },
            "type": "mesh3d"
           }
          ],
          "parcoords": [
           {
            "line": {
             "colorbar": {
              "outlinewidth": 0,
              "ticks": ""
             }
            },
            "type": "parcoords"
           }
          ],
          "pie": [
           {
            "automargin": true,
            "type": "pie"
           }
          ],
          "scatter": [
           {
            "fillpattern": {
             "fillmode": "overlay",
             "size": 10,
             "solidity": 0.2
            },
            "type": "scatter"
           }
          ],
          "scatter3d": [
           {
            "line": {
             "colorbar": {
              "outlinewidth": 0,
              "ticks": ""
             }
            },
            "marker": {
             "colorbar": {
              "outlinewidth": 0,
              "ticks": ""
             }
            },
            "type": "scatter3d"
           }
          ],
          "scattercarpet": [
           {
            "marker": {
             "colorbar": {
              "outlinewidth": 0,
              "ticks": ""
             }
            },
            "type": "scattercarpet"
           }
          ],
          "scattergeo": [
           {
            "marker": {
             "colorbar": {
              "outlinewidth": 0,
              "ticks": ""
             }
            },
            "type": "scattergeo"
           }
          ],
          "scattergl": [
           {
            "marker": {
             "colorbar": {
              "outlinewidth": 0,
              "ticks": ""
             }
            },
            "type": "scattergl"
           }
          ],
          "scattermapbox": [
           {
            "marker": {
             "colorbar": {
              "outlinewidth": 0,
              "ticks": ""
             }
            },
            "type": "scattermapbox"
           }
          ],
          "scatterpolar": [
           {
            "marker": {
             "colorbar": {
              "outlinewidth": 0,
              "ticks": ""
             }
            },
            "type": "scatterpolar"
           }
          ],
          "scatterpolargl": [
           {
            "marker": {
             "colorbar": {
              "outlinewidth": 0,
              "ticks": ""
             }
            },
            "type": "scatterpolargl"
           }
          ],
          "scatterternary": [
           {
            "marker": {
             "colorbar": {
              "outlinewidth": 0,
              "ticks": ""
             }
            },
            "type": "scatterternary"
           }
          ],
          "surface": [
           {
            "colorbar": {
             "outlinewidth": 0,
             "ticks": ""
            },
            "colorscale": [
             [
              0,
              "#0d0887"
             ],
             [
              0.1111111111111111,
              "#46039f"
             ],
             [
              0.2222222222222222,
              "#7201a8"
             ],
             [
              0.3333333333333333,
              "#9c179e"
             ],
             [
              0.4444444444444444,
              "#bd3786"
             ],
             [
              0.5555555555555556,
              "#d8576b"
             ],
             [
              0.6666666666666666,
              "#ed7953"
             ],
             [
              0.7777777777777778,
              "#fb9f3a"
             ],
             [
              0.8888888888888888,
              "#fdca26"
             ],
             [
              1,
              "#f0f921"
             ]
            ],
            "type": "surface"
           }
          ],
          "table": [
           {
            "cells": {
             "fill": {
              "color": "#EBF0F8"
             },
             "line": {
              "color": "white"
             }
            },
            "header": {
             "fill": {
              "color": "#C8D4E3"
             },
             "line": {
              "color": "white"
             }
            },
            "type": "table"
           }
          ]
         },
         "layout": {
          "annotationdefaults": {
           "arrowcolor": "#2a3f5f",
           "arrowhead": 0,
           "arrowwidth": 1
          },
          "autotypenumbers": "strict",
          "coloraxis": {
           "colorbar": {
            "outlinewidth": 0,
            "ticks": ""
           }
          },
          "colorscale": {
           "diverging": [
            [
             0,
             "#8e0152"
            ],
            [
             0.1,
             "#c51b7d"
            ],
            [
             0.2,
             "#de77ae"
            ],
            [
             0.3,
             "#f1b6da"
            ],
            [
             0.4,
             "#fde0ef"
            ],
            [
             0.5,
             "#f7f7f7"
            ],
            [
             0.6,
             "#e6f5d0"
            ],
            [
             0.7,
             "#b8e186"
            ],
            [
             0.8,
             "#7fbc41"
            ],
            [
             0.9,
             "#4d9221"
            ],
            [
             1,
             "#276419"
            ]
           ],
           "sequential": [
            [
             0,
             "#0d0887"
            ],
            [
             0.1111111111111111,
             "#46039f"
            ],
            [
             0.2222222222222222,
             "#7201a8"
            ],
            [
             0.3333333333333333,
             "#9c179e"
            ],
            [
             0.4444444444444444,
             "#bd3786"
            ],
            [
             0.5555555555555556,
             "#d8576b"
            ],
            [
             0.6666666666666666,
             "#ed7953"
            ],
            [
             0.7777777777777778,
             "#fb9f3a"
            ],
            [
             0.8888888888888888,
             "#fdca26"
            ],
            [
             1,
             "#f0f921"
            ]
           ],
           "sequentialminus": [
            [
             0,
             "#0d0887"
            ],
            [
             0.1111111111111111,
             "#46039f"
            ],
            [
             0.2222222222222222,
             "#7201a8"
            ],
            [
             0.3333333333333333,
             "#9c179e"
            ],
            [
             0.4444444444444444,
             "#bd3786"
            ],
            [
             0.5555555555555556,
             "#d8576b"
            ],
            [
             0.6666666666666666,
             "#ed7953"
            ],
            [
             0.7777777777777778,
             "#fb9f3a"
            ],
            [
             0.8888888888888888,
             "#fdca26"
            ],
            [
             1,
             "#f0f921"
            ]
           ]
          },
          "colorway": [
           "#636efa",
           "#EF553B",
           "#00cc96",
           "#ab63fa",
           "#FFA15A",
           "#19d3f3",
           "#FF6692",
           "#B6E880",
           "#FF97FF",
           "#FECB52"
          ],
          "font": {
           "color": "#2a3f5f"
          },
          "geo": {
           "bgcolor": "white",
           "lakecolor": "white",
           "landcolor": "#E5ECF6",
           "showlakes": true,
           "showland": true,
           "subunitcolor": "white"
          },
          "hoverlabel": {
           "align": "left"
          },
          "hovermode": "closest",
          "mapbox": {
           "style": "light"
          },
          "paper_bgcolor": "white",
          "plot_bgcolor": "#E5ECF6",
          "polar": {
           "angularaxis": {
            "gridcolor": "white",
            "linecolor": "white",
            "ticks": ""
           },
           "bgcolor": "#E5ECF6",
           "radialaxis": {
            "gridcolor": "white",
            "linecolor": "white",
            "ticks": ""
           }
          },
          "scene": {
           "xaxis": {
            "backgroundcolor": "#E5ECF6",
            "gridcolor": "white",
            "gridwidth": 2,
            "linecolor": "white",
            "showbackground": true,
            "ticks": "",
            "zerolinecolor": "white"
           },
           "yaxis": {
            "backgroundcolor": "#E5ECF6",
            "gridcolor": "white",
            "gridwidth": 2,
            "linecolor": "white",
            "showbackground": true,
            "ticks": "",
            "zerolinecolor": "white"
           },
           "zaxis": {
            "backgroundcolor": "#E5ECF6",
            "gridcolor": "white",
            "gridwidth": 2,
            "linecolor": "white",
            "showbackground": true,
            "ticks": "",
            "zerolinecolor": "white"
           }
          },
          "shapedefaults": {
           "line": {
            "color": "#2a3f5f"
           }
          },
          "ternary": {
           "aaxis": {
            "gridcolor": "white",
            "linecolor": "white",
            "ticks": ""
           },
           "baxis": {
            "gridcolor": "white",
            "linecolor": "white",
            "ticks": ""
           },
           "bgcolor": "#E5ECF6",
           "caxis": {
            "gridcolor": "white",
            "linecolor": "white",
            "ticks": ""
           }
          },
          "title": {
           "x": 0.05
          },
          "xaxis": {
           "automargin": true,
           "gridcolor": "white",
           "linecolor": "white",
           "ticks": "",
           "title": {
            "standoff": 15
           },
           "zerolinecolor": "white",
           "zerolinewidth": 2
          },
          "yaxis": {
           "automargin": true,
           "gridcolor": "white",
           "linecolor": "white",
           "ticks": "",
           "title": {
            "standoff": 15
           },
           "zerolinecolor": "white",
           "zerolinewidth": 2
          }
         }
        },
        "width": 600
       }
      },
      "image/png": "[encoded data removed]",
      "text/html": [
       "<div>                            <div id=\"96423573-809d-483e-8fc4-88e9a92c41cc\" class=\"plotly-graph-div\" style=\"height:500px; width:600px;\"></div>            <script type=\"text/javascript\">                require([\"plotly\"], function(Plotly) {                    window.PLOTLYENV=window.PLOTLYENV || {};                                    if (document.getElementById(\"96423573-809d-483e-8fc4-88e9a92c41cc\")) {                    Plotly.newPlot(                        \"96423573-809d-483e-8fc4-88e9a92c41cc\",                        [{\"branchvalues\":\"total\",\"customdata\":[[131875.0],[416000.0],[270000.0],[105000.0],[132000.0],[60000.0],[5092139.0],[4768193.0],[18211053.0],[38647842.0],[200598.0],[130107.0],[4590305.875],[4600800.961538462],[17617526.943661973],[38372375.27142857],[24745248.858319603]],\"domain\":{\"x\":[0.0,1.0],\"y\":[0.0,1.0]},\"hovertemplate\":\"labels=%{label}<br>count=%{value}<br>parent=%{parent}<br>id=%{id}<br>salary_in_usd=%{color}<extra></extra>\",\"ids\":[\"All/Entry-level/Contract\",\"All/Executive-level/Contract\",\"All/Mid-level/Contract\",\"All/Senior-level/Contract\",\"All/Mid-level/Freelance\",\"All/Senior-level/Freelance\",\"All/Entry-level/Full-time\",\"All/Executive-level/Full-time\",\"All/Mid-level/Full-time\",\"All/Senior-level/Full-time\",\"All/Entry-level/Part-time\",\"All/Mid-level/Part-time\",\"All/Entry-level\",\"All/Executive-level\",\"All/Mid-level\",\"All/Senior-level\",\"All\"],\"labels\":[\"Contract\",\"Contract\",\"Contract\",\"Contract\",\"Freelance\",\"Freelance\",\"Full-time\",\"Full-time\",\"Full-time\",\"Full-time\",\"Part-time\",\"Part-time\",\"Entry-level\",\"Executive-level\",\"Mid-level\",\"Senior-level\",\"All\"],\"marker\":{\"coloraxis\":\"coloraxis\",\"colors\":[131875.0,416000.0,270000.0,105000.0,132000.0,60000.0,5092139.0,4768193.0,18211053.0,38647842.0,200598.0,130107.0,4590305.875,4600800.961538462,17617526.943661973,38372375.27142857,24745248.858319603]},\"name\":\"\",\"parents\":[\"All/Entry-level\",\"All/Executive-level\",\"All/Mid-level\",\"All/Senior-level\",\"All/Mid-level\",\"All/Senior-level\",\"All/Entry-level\",\"All/Executive-level\",\"All/Mid-level\",\"All/Senior-level\",\"All/Entry-level\",\"All/Mid-level\",\"All\",\"All\",\"All\",\"All\",\"\"],\"values\":[2,1,1,1,3,1,79,25,206,278,7,3,88,26,213,280,607],\"type\":\"treemap\"}],                        {\"template\":{\"data\":{\"histogram2dcontour\":[{\"type\":\"histogram2dcontour\",\"colorbar\":{\"outlinewidth\":0,\"ticks\":\"\"},\"colorscale\":[[0.0,\"#0d0887\"],[0.1111111111111111,\"#46039f\"],[0.2222222222222222,\"#7201a8\"],[0.3333333333333333,\"#9c179e\"],[0.4444444444444444,\"#bd3786\"],[0.5555555555555556,\"#d8576b\"],[0.6666666666666666,\"#ed7953\"],[0.7777777777777778,\"#fb9f3a\"],[0.8888888888888888,\"#fdca26\"],[1.0,\"#f0f921\"]]}],\"choropleth\":[{\"type\":\"choropleth\",\"colorbar\":{\"outlinewidth\":0,\"ticks\":\"\"}}],\"histogram2d\":[{\"type\":\"histogram2d\",\"colorbar\":{\"outlinewidth\":0,\"ticks\":\"\"},\"colorscale\":[[0.0,\"#0d0887\"],[0.1111111111111111,\"#46039f\"],[0.2222222222222222,\"#7201a8\"],[0.3333333333333333,\"#9c179e\"],[0.4444444444444444,\"#bd3786\"],[0.5555555555555556,\"#d8576b\"],[0.6666666666666666,\"#ed7953\"],[0.7777777777777778,\"#fb9f3a\"],[0.8888888888888888,\"#fdca26\"],[1.0,\"#f0f921\"]]}],\"heatmap\":[{\"type\":\"heatmap\",\"colorbar\":{\"outlinewidth\":0,\"ticks\":\"\"},\"colorscale\":[[0.0,\"#0d0887\"],[0.1111111111111111,\"#46039f\"],[0.2222222222222222,\"#7201a8\"],[0.3333333333333333,\"#9c179e\"],[0.4444444444444444,\"#bd3786\"],[0.5555555555555556,\"#d8576b\"],[0.6666666666666666,\"#ed7953\"],[0.7777777777777778,\"#fb9f3a\"],[0.8888888888888888,\"#fdca26\"],[1.0,\"#f0f921\"]]}],\"heatmapgl\":[{\"type\":\"heatmapgl\",\"colorbar\":{\"outlinewidth\":0,\"ticks\":\"\"},\"colorscale\":[[0.0,\"#0d0887\"],[0.1111111111111111,\"#46039f\"],[0.2222222222222222,\"#7201a8\"],[0.3333333333333333,\"#9c179e\"],[0.4444444444444444,\"#bd3786\"],[0.5555555555555556,\"#d8576b\"],[0.6666666666666666,\"#ed7953\"],[0.7777777777777778,\"#fb9f3a\"],[0.8888888888888888,\"#fdca26\"],[1.0,\"#f0f921\"]]}],\"contourcarpet\":[{\"type\":\"contourcarpet\",\"colorbar\":{\"outlinewidth\":0,\"ticks\":\"\"}}],\"contour\":[{\"type\":\"contour\",\"colorbar\":{\"outlinewidth\":0,\"ticks\":\"\"},\"colorscale\":[[0.0,\"#0d0887\"],[0.1111111111111111,\"#46039f\"],[0.2222222222222222,\"#7201a8\"],[0.3333333333333333,\"#9c179e\"],[0.4444444444444444,\"#bd3786\"],[0.5555555555555556,\"#d8576b\"],[0.6666666666666666,\"#ed7953\"],[0.7777777777777778,\"#fb9f3a\"],[0.8888888888888888,\"#fdca26\"],[1.0,\"#f0f921\"]]}],\"surface\":[{\"type\":\"surface\",\"colorbar\":{\"outlinewidth\":0,\"ticks\":\"\"},\"colorscale\":[[0.0,\"#0d0887\"],[0.1111111111111111,\"#46039f\"],[0.2222222222222222,\"#7201a8\"],[0.3333333333333333,\"#9c179e\"],[0.4444444444444444,\"#bd3786\"],[0.5555555555555556,\"#d8576b\"],[0.6666666666666666,\"#ed7953\"],[0.7777777777777778,\"#fb9f3a\"],[0.8888888888888888,\"#fdca26\"],[1.0,\"#f0f921\"]]}],\"mesh3d\":[{\"type\":\"mesh3d\",\"colorbar\":{\"outlinewidth\":0,\"ticks\":\"\"}}],\"scatter\":[{\"fillpattern\":{\"fillmode\":\"overlay\",\"size\":10,\"solidity\":0.2},\"type\":\"scatter\"}],\"parcoords\":[{\"type\":\"parcoords\",\"line\":{\"colorbar\":{\"outlinewidth\":0,\"ticks\":\"\"}}}],\"scatterpolargl\":[{\"type\":\"scatterpolargl\",\"marker\":{\"colorbar\":{\"outlinewidth\":0,\"ticks\":\"\"}}}],\"bar\":[{\"error_x\":{\"color\":\"#2a3f5f\"},\"error_y\":{\"color\":\"#2a3f5f\"},\"marker\":{\"line\":{\"color\":\"#E5ECF6\",\"width\":0.5},\"pattern\":{\"fillmode\":\"overlay\",\"size\":10,\"solidity\":0.2}},\"type\":\"bar\"}],\"scattergeo\":[{\"type\":\"scattergeo\",\"marker\":{\"colorbar\":{\"outlinewidth\":0,\"ticks\":\"\"}}}],\"scatterpolar\":[{\"type\":\"scatterpolar\",\"marker\":{\"colorbar\":{\"outlinewidth\":0,\"ticks\":\"\"}}}],\"histogram\":[{\"marker\":{\"pattern\":{\"fillmode\":\"overlay\",\"size\":10,\"solidity\":0.2}},\"type\":\"histogram\"}],\"scattergl\":[{\"type\":\"scattergl\",\"marker\":{\"colorbar\":{\"outlinewidth\":0,\"ticks\":\"\"}}}],\"scatter3d\":[{\"type\":\"scatter3d\",\"line\":{\"colorbar\":{\"outlinewidth\":0,\"ticks\":\"\"}},\"marker\":{\"colorbar\":{\"outlinewidth\":0,\"ticks\":\"\"}}}],\"scattermapbox\":[{\"type\":\"scattermapbox\",\"marker\":{\"colorbar\":{\"outlinewidth\":0,\"ticks\":\"\"}}}],\"scatterternary\":[{\"type\":\"scatterternary\",\"marker\":{\"colorbar\":{\"outlinewidth\":0,\"ticks\":\"\"}}}],\"scattercarpet\":[{\"type\":\"scattercarpet\",\"marker\":{\"colorbar\":{\"outlinewidth\":0,\"ticks\":\"\"}}}],\"carpet\":[{\"aaxis\":{\"endlinecolor\":\"#2a3f5f\",\"gridcolor\":\"white\",\"linecolor\":\"white\",\"minorgridcolor\":\"white\",\"startlinecolor\":\"#2a3f5f\"},\"baxis\":{\"endlinecolor\":\"#2a3f5f\",\"gridcolor\":\"white\",\"linecolor\":\"white\",\"minorgridcolor\":\"white\",\"startlinecolor\":\"#2a3f5f\"},\"type\":\"carpet\"}],\"table\":[{\"cells\":{\"fill\":{\"color\":\"#EBF0F8\"},\"line\":{\"color\":\"white\"}},\"header\":{\"fill\":{\"color\":\"#C8D4E3\"},\"line\":{\"color\":\"white\"}},\"type\":\"table\"}],\"barpolar\":[{\"marker\":{\"line\":{\"color\":\"#E5ECF6\",\"width\":0.5},\"pattern\":{\"fillmode\":\"overlay\",\"size\":10,\"solidity\":0.2}},\"type\":\"barpolar\"}],\"pie\":[{\"automargin\":true,\"type\":\"pie\"}]},\"layout\":{\"autotypenumbers\":\"strict\",\"colorway\":[\"#636efa\",\"#EF553B\",\"#00cc96\",\"#ab63fa\",\"#FFA15A\",\"#19d3f3\",\"#FF6692\",\"#B6E880\",\"#FF97FF\",\"#FECB52\"],\"font\":{\"color\":\"#2a3f5f\"},\"hovermode\":\"closest\",\"hoverlabel\":{\"align\":\"left\"},\"paper_bgcolor\":\"white\",\"plot_bgcolor\":\"#E5ECF6\",\"polar\":{\"bgcolor\":\"#E5ECF6\",\"angularaxis\":{\"gridcolor\":\"white\",\"linecolor\":\"white\",\"ticks\":\"\"},\"radialaxis\":{\"gridcolor\":\"white\",\"linecolor\":\"white\",\"ticks\":\"\"}},\"ternary\":{\"bgcolor\":\"#E5ECF6\",\"aaxis\":{\"gridcolor\":\"white\",\"linecolor\":\"white\",\"ticks\":\"\"},\"baxis\":{\"gridcolor\":\"white\",\"linecolor\":\"white\",\"ticks\":\"\"},\"caxis\":{\"gridcolor\":\"white\",\"linecolor\":\"white\",\"ticks\":\"\"}},\"coloraxis\":{\"colorbar\":{\"outlinewidth\":0,\"ticks\":\"\"}},\"colorscale\":{\"sequential\":[[0.0,\"#0d0887\"],[0.1111111111111111,\"#46039f\"],[0.2222222222222222,\"#7201a8\"],[0.3333333333333333,\"#9c179e\"],[0.4444444444444444,\"#bd3786\"],[0.5555555555555556,\"#d8576b\"],[0.6666666666666666,\"#ed7953\"],[0.7777777777777778,\"#fb9f3a\"],[0.8888888888888888,\"#fdca26\"],[1.0,\"#f0f921\"]],\"sequentialminus\":[[0.0,\"#0d0887\"],[0.1111111111111111,\"#46039f\"],[0.2222222222222222,\"#7201a8\"],[0.3333333333333333,\"#9c179e\"],[0.4444444444444444,\"#bd3786\"],[0.5555555555555556,\"#d8576b\"],[0.6666666666666666,\"#ed7953\"],[0.7777777777777778,\"#fb9f3a\"],[0.8888888888888888,\"#fdca26\"],[1.0,\"#f0f921\"]],\"diverging\":[[0,\"#8e0152\"],[0.1,\"#c51b7d\"],[0.2,\"#de77ae\"],[0.3,\"#f1b6da\"],[0.4,\"#fde0ef\"],[0.5,\"#f7f7f7\"],[0.6,\"#e6f5d0\"],[0.7,\"#b8e186\"],[0.8,\"#7fbc41\"],[0.9,\"#4d9221\"],[1,\"#276419\"]]},\"xaxis\":{\"gridcolor\":\"white\",\"linecolor\":\"white\",\"ticks\":\"\",\"title\":{\"standoff\":15},\"zerolinecolor\":\"white\",\"automargin\":true,\"zerolinewidth\":2},\"yaxis\":{\"gridcolor\":\"white\",\"linecolor\":\"white\",\"ticks\":\"\",\"title\":{\"standoff\":15},\"zerolinecolor\":\"white\",\"automargin\":true,\"zerolinewidth\":2},\"scene\":{\"xaxis\":{\"backgroundcolor\":\"#E5ECF6\",\"gridcolor\":\"white\",\"linecolor\":\"white\",\"showbackground\":true,\"ticks\":\"\",\"zerolinecolor\":\"white\",\"gridwidth\":2},\"yaxis\":{\"backgroundcolor\":\"#E5ECF6\",\"gridcolor\":\"white\",\"linecolor\":\"white\",\"showbackground\":true,\"ticks\":\"\",\"zerolinecolor\":\"white\",\"gridwidth\":2},\"zaxis\":{\"backgroundcolor\":\"#E5ECF6\",\"gridcolor\":\"white\",\"linecolor\":\"white\",\"showbackground\":true,\"ticks\":\"\",\"zerolinecolor\":\"white\",\"gridwidth\":2}},\"shapedefaults\":{\"line\":{\"color\":\"#2a3f5f\"}},\"annotationdefaults\":{\"arrowcolor\":\"#2a3f5f\",\"arrowhead\":0,\"arrowwidth\":1},\"geo\":{\"bgcolor\":\"white\",\"landcolor\":\"#E5ECF6\",\"subunitcolor\":\"white\",\"showland\":true,\"showlakes\":true,\"lakecolor\":\"white\"},\"title\":{\"x\":0.05},\"mapbox\":{\"style\":\"light\"}}},\"coloraxis\":{\"colorbar\":{\"title\":{\"text\":\"salary_in_usd\"}},\"colorscale\":[[0.0,\"rgb(103,0,31)\"],[0.1,\"rgb(178,24,43)\"],[0.2,\"rgb(214,96,77)\"],[0.3,\"rgb(244,165,130)\"],[0.4,\"rgb(253,219,199)\"],[0.5,\"rgb(247,247,247)\"],[0.6,\"rgb(209,229,240)\"],[0.7,\"rgb(146,197,222)\"],[0.8,\"rgb(67,147,195)\"],[0.9,\"rgb(33,102,172)\"],[1.0,\"rgb(5,48,97)\"]]},\"legend\":{\"tracegroupgap\":0},\"margin\":{\"t\":60},\"height\":500,\"width\":600},                        {\"responsive\": true}                    ).then(function(){\n",
       "                            \n",
       "var gd = document.getElementById('96423573-809d-483e-8fc4-88e9a92c41cc');\n",
       "var x = new MutationObserver(function (mutations, observer) {{\n",
       "        var display = window.getComputedStyle(gd).display;\n",
       "        if (!display || display === 'none') {{\n",
       "            console.log([gd, 'removed!']);\n",
       "            Plotly.purge(gd);\n",
       "            observer.disconnect();\n",
       "        }}\n",
       "}});\n",
       "\n",
       "// Listen for the removal of the full notebook cells\n",
       "var notebookContainer = gd.closest('#notebook-container');\n",
       "if (notebookContainer) {{\n",
       "    x.observe(notebookContainer, {childList: true});\n",
       "}}\n",
       "\n",
       "// Listen for the clearing of the current output cell\n",
       "var outputEl = gd.closest('.output');\n",
       "if (outputEl) {{\n",
       "    x.observe(outputEl, {childList: true});\n",
       "}}\n",
       "\n",
       "                        })                };                });            </script>        </div>"
      ]
     },
     "metadata": {},
     "output_type": "display_data"
    }
   ],
   "source": [
    "    exp_salary = new_df.groupby(['experience_level', 'employment_type']).agg({'employment_type': 'count', 'salary_in_usd': 'sum'})\n",
    "    exp_salary.rename(columns = {'employment_type': 'count'}, inplace = True)\n",
    "    exp_salary.reset_index(inplace = True)\n",
    "\n",
    "    fig = px.treemap(exp_salary, \n",
    "                    path = [px.Constant('All'), 'experience_level', 'employment_type'], \n",
    "                    values = 'count', \n",
    "                    color = 'salary_in_usd',\n",
    "                    color_continuous_scale = 'RdBu',\n",
    "                    width = 600,\n",
    "                    height = 500\n",
    "                    )\n",
    "    fig.show()"
   ]
  },
  {
   "cell_type": "markdown",
   "id": "ee74750d-062f-432f-9519-222d59b064eb",
   "metadata": {},
   "source": [
    "> The above treemap represents salary variation with experience level and employment type. A senior-level full-time employee earns around 35M whereas an entry-level part-time/contract employee earns around 5M.  "
   ]
  },
  {
   "cell_type": "markdown",
   "id": "07fd1588-4fbc-44b1-8198-f146e07cbe63",
   "metadata": {},
   "source": [
    "### Problem statement 3"
   ]
  },
  {
   "cell_type": "markdown",
   "id": "41409851-27d5-4401-926d-cac418d64f84",
   "metadata": {},
   "source": [
    "#### Which are the top 10 high salary paying countries for Data Science roles? "
   ]
  },
  {
   "cell_type": "code",
   "execution_count": 174,
   "id": "f24793f5-7d57-4c2f-8e2f-e50577a081a3",
   "metadata": {},
   "outputs": [
    {
     "data": {
      "image/png": "[encoded data removed]",
      "text/plain": [
       "<Figure size 576x432 with 1 Axes>"
      ]
     },
     "metadata": {},
     "output_type": "display_data"
    }
   ],
   "source": [
    "fig = plt.figure(figsize = (8, 6))\n",
    "top_10_paying_countries = new_df.groupby(['comp_location'])['salary_in_usd'].median().sort_values(ascending = False)[:10]\n",
    "\n",
    "sns.barplot(top_10_paying_countries.values, top_10_paying_countries.index, orient = 'h')\n",
    "plt.show()"
   ]
  },
  {
   "cell_type": "code",
   "execution_count": null,
   "id": "f5a3c5c0-93e0-4341-89b6-541bf89ba66b",
   "metadata": {},
   "outputs": [],
   "source": []
  },
  {
   "cell_type": "markdown",
   "id": "3670a1c9-d737-4297-802e-115fccffeba8",
   "metadata": {},
   "source": [
    "### Problem statement 4"
   ]
  },
  {
   "cell_type": "markdown",
   "id": "f98ed91d-6fcb-4bf7-83bf-97ffe0e37900",
   "metadata": {},
   "source": [
    "#### Are the employees working remotely resides in their company location or in their residence ?"
   ]
  },
  {
   "cell_type": "code",
   "execution_count": 189,
   "id": "0c82929f-c45b-4528-849f-033216ad87fd",
   "metadata": {
    "jupyter": {
     "source_hidden": true
    },
    "tags": []
   },
   "outputs": [
    {
     "data": {
      "image/png": "[encoded data removed]",
      "text/plain": [
       "<Figure size 576x396 with 1 Axes>"
      ]
     },
     "metadata": {},
     "output_type": "display_data"
    }
   ],
   "source": [
    "remote = new_df.loc[new_df['remote_ratio'] == 100][['emp_residence', 'comp_location']]\n",
    "diff_remote_loc = remote.loc[remote['emp_residence'] != remote['comp_location']]\n",
    "\n",
    "ratio = pd.DataFrame({'count': [len(remote), len('diff_remote_loc')]}, index = ['remote', 'diff_remote_loc'])\n",
    "\n",
    "plt.bar(ratio.index, ratio['count'])\n",
    "plt.show()"
   ]
  },
  {
   "cell_type": "markdown",
   "id": "7ce4fe39-76d0-41d7-aaf1-45bae2d7ecf0",
   "metadata": {},
   "source": [
    "About only 10% of employees working remotely stays in their residence than company location. "
   ]
  },
  {
   "cell_type": "markdown",
   "id": "6f1f10be-4a4c-4692-98ab-f973b86fb490",
   "metadata": {},
   "source": [
    "Conclusion:\n",
    "> Data science jobs are in most demand for the last 3 years. \n",
    "\n",
    "> There is a considerable amount of growth in salary about 45% in the year 2022. \n",
    "\n",
    "> A senior-level full-time employee earns at least 5 times more than an entry-level part-time/ contract employee.\n",
    "\n",
    "> About only 10% of employees working remotely stays in their residence than in their company location. \n",
    "    "
   ]
  },
  {
   "cell_type": "code",
   "execution_count": null,
   "id": "49e01389-a7ab-488f-b12f-48acc6b4a7c3",
   "metadata": {},
   "outputs": [],
   "source": []
  }
 ],
 "metadata": {
  "kernelspec": {
   "display_name": "Python 3 (ipykernel)",
   "language": "python",
   "name": "python3"
  },
  "language_info": {
   "codemirror_mode": {
    "name": "ipython",
    "version": 3
   },
   "file_extension": ".py",
   "mimetype": "text/x-python",
   "name": "python",
   "nbconvert_exporter": "python",
   "pygments_lexer": "ipython3",
   "version": "3.10.5"
  }
 },
 "nbformat": 4,
 "nbformat_minor": 5
}
